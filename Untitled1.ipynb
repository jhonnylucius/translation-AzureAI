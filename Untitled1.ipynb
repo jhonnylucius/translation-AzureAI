{
  "nbformat": 4,
  "nbformat_minor": 0,
  "metadata": {
    "colab": {
      "provenance": [],
      "authorship_tag": "ABX9TyO3yOs9P9FNG/gqWrAfCcCP",
      "include_colab_link": true
    },
    "kernelspec": {
      "name": "python3",
      "display_name": "Python 3"
    },
    "language_info": {
      "name": "python"
    }
  },
  "cells": [
    {
      "cell_type": "markdown",
      "metadata": {
        "id": "view-in-github",
        "colab_type": "text"
      },
      "source": [
        "<a href=\"https://colab.research.google.com/github/jhonnylucius/translation-AzureAI-DIO-projeto/blob/main/Untitled1.ipynb\" target=\"_parent\"><img src=\"https://colab.research.google.com/assets/colab-badge.svg\" alt=\"Open In Colab\"/></a>"
      ]
    },
    {
      "cell_type": "code",
      "source": [
        "!pip install requests python-docx"
      ],
      "metadata": {
        "colab": {
          "base_uri": "https://localhost:8080/"
        },
        "id": "55MGItOWlqSV",
        "outputId": "22c3b99e-208c-42a8-ae11-8a3c3ef25ce2"
      },
      "execution_count": 3,
      "outputs": [
        {
          "output_type": "stream",
          "name": "stdout",
          "text": [
            "Requirement already satisfied: requests in /usr/local/lib/python3.10/dist-packages (2.32.3)\n",
            "Requirement already satisfied: python-docx in /usr/local/lib/python3.10/dist-packages (1.1.2)\n",
            "Requirement already satisfied: charset-normalizer<4,>=2 in /usr/local/lib/python3.10/dist-packages (from requests) (3.4.0)\n",
            "Requirement already satisfied: idna<4,>=2.5 in /usr/local/lib/python3.10/dist-packages (from requests) (3.10)\n",
            "Requirement already satisfied: urllib3<3,>=1.21.1 in /usr/local/lib/python3.10/dist-packages (from requests) (2.2.3)\n",
            "Requirement already satisfied: certifi>=2017.4.17 in /usr/local/lib/python3.10/dist-packages (from requests) (2024.8.30)\n",
            "Requirement already satisfied: lxml>=3.1.0 in /usr/local/lib/python3.10/dist-packages (from python-docx) (5.3.0)\n",
            "Requirement already satisfied: typing-extensions>=4.9.0 in /usr/local/lib/python3.10/dist-packages (from python-docx) (4.12.2)\n"
          ]
        }
      ]
    },
    {
      "cell_type": "code",
      "source": [
        "from typing import Text\n",
        "import requests\n",
        "import os\n",
        "from docx import Document\n",
        "\n",
        "subscription_key = \"sua chave\"\n",
        "endpoint = 'https://api.cognitive.microsofttranslator.com'\n",
        "location = \"sua região\"\n",
        "language_destination = 'pt-br'\n",
        "\n",
        "def translator_text(text, language_destination):\n",
        "    path = '/translate'\n",
        "    constructed_url = endpoint + path\n",
        "\n",
        "    headers = {\n",
        "        'Ocp-Apim-Subscription-Key': subscription_key,\n",
        "        'Ocp-Apim-Subscription-Region': location,\n",
        "        'Content-type': 'application/json',\n",
        "        'X-ClientTraceId': str(os.urandom(16))\n",
        "    }\n",
        "\n",
        "    body = [{\n",
        "        'text': text\n",
        "    }]\n",
        "\n",
        "\n",
        "    params = {\n",
        "        'api-version': '3.0',\n",
        "        'from': \"en\",\n",
        "        'to': language_destination\n",
        "    }\n",
        "\n",
        "    #\n",
        "    request = requests.post(constructed_url, params=params, headers=headers, json=body)\n",
        "\n",
        "\n",
        "    response = request.json()\n",
        "\n",
        "\n",
        "    return response[0][\"translations\"][0][\"text\"]\n",
        "\n",
        "\n",
        "text_to_translate = \"The tune will come to you at last...When all are one, and one is all...To be a rock and not to roll\"\n",
        "translated_text = translator_text(text_to_translate, language_destination)\n",
        "print(translated_text)\n"
      ],
      "metadata": {
        "colab": {
          "base_uri": "https://localhost:8080/"
        },
        "id": "Yp0zw-cn9Unz",
        "outputId": "d76f7267-13a7-47ac-9177-74d93816370d"
      },
      "execution_count": 22,
      "outputs": [
        {
          "output_type": "stream",
          "name": "stdout",
          "text": [
            "A melodia finalmente virá até você... Quando todos são um, e um é tudo... Para ser uma rocha e não rolar\n"
          ]
        }
      ]
    },
    {
      "cell_type": "markdown",
      "source": [],
      "metadata": {
        "id": "wl_YNbf39UQ0"
      }
    },
    {
      "cell_type": "code",
      "source": [
        "def translate_document(path):\n",
        "  document= Document(path)\n",
        "  full_text = []\n",
        "  for paragraph in document.paragraphs:\n",
        "    translated_text = translator_text(paragraph.text, language_destination)\n",
        "    full_text.append(translated_text)\n",
        "\n",
        "  translated_doc = Document()\n",
        "  for line in full_text:\n",
        "      print(line)\n",
        "      translated_doc.add_paragraph(line)\n",
        "  path_translated = path.replace(\".docx\", f\"_{language_destination}.docx\")\n",
        "  translated_doc.save(path_translated)\n",
        "  return path_translated"
      ],
      "metadata": {
        "id": "eS3Sv2YY9iFr"
      },
      "execution_count": 24,
      "outputs": []
    },
    {
      "cell_type": "code",
      "source": [
        "input_file = \"/content/StairwayToHeaven.docx\"\n",
        "output_file = translate_document(input_file)\n",
        "print(output_file)"
      ],
      "metadata": {
        "colab": {
          "base_uri": "https://localhost:8080/"
        },
        "id": "t5US7EjNAhTk",
        "outputId": "9e007708-9402-41c1-bb37-ce6af8747dc5"
      },
      "execution_count": 27,
      "outputs": [
        {
          "output_type": "stream",
          "name": "stdout",
          "text": [
            "Há uma senhora que tem certeza de que tudo o que reluz é ouro\n",
            "E ela está comprando uma escada para o céu\n",
            "Quando ela chega lá, ela sabe, se as lojas estão todas fechadas\n",
            "Com uma palavra, ela pode conseguir o que veio buscar\n",
            "Ooh, ooh, e ela está comprando uma escada para o céu\n",
            "Há uma placa na parede, mas ela quer ter certeza\n",
            "Porque você sabe que às vezes as palavras têm dois significados\n",
            "Em uma árvore à beira do riacho, há um pássaro canoro que canta\n",
            "Às vezes, todos os nossos pensamentos são equivocados\n",
            "Ooh, isso me faz pensar\n",
            "Ooh, me faz pensar\n",
            "Há um sentimento que tenho quando olho para o Ocidente\n",
            "E meu espírito está chorando por sair\n",
            "Em meus pensamentos eu vi anéis de fumaça através das árvores\n",
            "E as vozes daqueles que estão olhando\n",
            "Ooh, isso me faz pensar\n",
            "Ooh, realmente me faz pensar\n",
            "E é sussurrado que em breve, se todos nós chamarmos a melodia\n",
            "Então o flautista nos levará à razão\n",
            "E um novo dia amanhecerá para aqueles que permanecerem por muito tempo\n",
            "E as florestas vão ecoar com risos\n",
            "Oh-oh-oh-oh-whoa\n",
            "Se houver uma agitação em sua cerca viva, não se assuste agora\n",
            "É apenas uma limpeza de primavera para a rainha de maio\n",
            "Sim, existem dois caminhos pelos quais você pode seguir, mas a longo prazo\n",
            "Ainda há tempo para mudar a estrada em que você está\n",
            "E isso me faz pensar\n",
            "Oh, uau\n",
            "Sua cabeça está zumbindo e não vai, caso você não saiba\n",
            "O flautista está chamando você para se juntar a ele\n",
            "Querida senhora, você pode ouvir o vento soprar? E você sabia\n",
            "Sua escada está no vento sussurrante?\n",
            "E enquanto seguimos pela estrada\n",
            "Nossas sombras mais altas que nossa alma\n",
            "Lá anda uma senhora que todos nós conhecemos\n",
            "Quem brilha luz branca e quer mostrar\n",
            "Como tudo ainda vira ouro\n",
            "E se você ouvir com muita atenção\n",
            "A melodia virá até você finalmente\n",
            "Quando todos são um, e um é tudo\n",
            "Para ser uma rocha e não rolar\n",
            "E ela está comprando uma escada para o céu\n",
            "\n",
            "\n",
            "/content/StairwayToHeaven_pt-br.docx\n"
          ]
        }
      ]
    }
  ]
}
